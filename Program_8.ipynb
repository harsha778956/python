{
 "cells": [
  {
   "cell_type": "code",
   "execution_count": 2,
   "id": "6ad49dde",
   "metadata": {},
   "outputs": [
    {
     "name": "stdout",
     "output_type": "stream",
     "text": [
      "Correlation between variable_A and variable_B:   0.9999999999999999\n",
      "Joint Probability p(A = 3 & B = 4):   0.16666666666666666\n",
      "Marginal Probability P(A = 3):   0.16666666666666666\n",
      "Marginal Probability P(B = 4):   0.16666666666666666\n",
      "Conditional Probability P(A = 3 | B = 4):   1.0\n"
     ]
    }
   ],
   "source": [
    "#PROGRAM 8\n",
    "\n",
    "import pandas as pd\n",
    "import numpy as np\n",
    "from scipy.stats import pearsonr\n",
    "\n",
    "data = {\n",
    "    'variable_A':[1,2,3,4,5,6],\n",
    "    'variable_B':[2,3,4,5,6,7]\n",
    "} \n",
    "\n",
    "df = pd.DataFrame(data)\n",
    "\n",
    "\n",
    "def calculate_correlation(df, col1, col2):\n",
    "    correlation, _ = pearsonr(df[col1], df[col2])\n",
    "    return correlation\n",
    "\n",
    "\n",
    "def joint_probability(df, event_A, event_B):\n",
    "    joint_df = df[(df['variable_A'] == event_A) & (df['variable_B'] == event_B)]\n",
    "    joint_prob = len(joint_df)/len(df)\n",
    "    return joint_prob\n",
    "\n",
    "\n",
    "def marginal_probability(df, event, variable):\n",
    "    marginal_df = df[df[variable] == event]\n",
    "    marginal_prob = len(marginal_df)/len(df)\n",
    "    return marginal_prob\n",
    "\n",
    "\n",
    "def conditional_probability(df, event_A, event_B):\n",
    "    joint_prob = joint_probability(df,event_A,event_B)\n",
    "    marginal_prob_B = marginal_probability(df,event_B, 'variable_B')\n",
    "    if marginal_prob_B == 0:\n",
    "        return 0\n",
    "    return joint_prob/marginal_prob_B\n",
    "\n",
    "\n",
    "correlation = calculate_correlation(df, 'variable_A', 'variable_B')\n",
    "print(\"Correlation between variable_A and variable_B:  \",correlation)\n",
    "\n",
    "joint_prob=joint_probability(df, 3, 4)\n",
    "print(\"Joint Probability p(A = 3 & B = 4):  \",joint_prob)\n",
    "\n",
    "marginal_prob_A=marginal_probability(df, 3, 'variable_A')\n",
    "print(\"Marginal Probability P(A = 3):  \",marginal_prob_A)\n",
    "\n",
    "marginal_prob_B=marginal_probability(df, 4, 'variable_B')\n",
    "print(\"Marginal Probability P(B = 4):  \",marginal_prob_B)\n",
    "\n",
    "cond_prob=conditional_probability(df, 3, 4)\n",
    "print(\"Conditional Probability P(A = 3 | B = 4):  \",cond_prob)"
   ]
  }
 ],
 "metadata": {
  "kernelspec": {
   "display_name": "Python 3 (ipykernel)",
   "language": "python",
   "name": "python3"
  },
  "language_info": {
   "codemirror_mode": {
    "name": "ipython",
    "version": 3
   },
   "file_extension": ".py",
   "mimetype": "text/x-python",
   "name": "python",
   "nbconvert_exporter": "python",
   "pygments_lexer": "ipython3",
   "version": "3.11.5"
  }
 },
 "nbformat": 4,
 "nbformat_minor": 5
}
