{
 "cells": [
  {
   "cell_type": "code",
   "execution_count": 1,
   "id": "1b3f8d92",
   "metadata": {},
   "outputs": [
    {
     "name": "stdout",
     "output_type": "stream",
     "text": [
      "Method in class B\n",
      "Method Resolution Order: (<class '__main__.D'>, <class '__main__.B'>, <class '__main__.C'>, <class '__main__.A'>, <class 'object'>)\n"
     ]
    }
   ],
   "source": [
    "#PROGRAM 5\n",
    "\n",
    "class A:\n",
    "    def func(self):\n",
    "        print(\"Method in class A\")\n",
    "        \n",
    "        \n",
    "class B(A):\n",
    "    def func(self):\n",
    "        print(\"Method in class B\")\n",
    "        \n",
    "        \n",
    "class C(A):\n",
    "    def func(self):\n",
    "        print(\"Method in class C\")\n",
    "        \n",
    "        \n",
    "class D(B,C):\n",
    "    pass\n",
    "\n",
    "\n",
    "d = D()\n",
    "d.func()\n",
    "print(\"Method Resolution Order:\",D.__mro__)"
   ]
  }
 ],
 "metadata": {
  "kernelspec": {
   "display_name": "Python 3 (ipykernel)",
   "language": "python",
   "name": "python3"
  },
  "language_info": {
   "codemirror_mode": {
    "name": "ipython",
    "version": 3
   },
   "file_extension": ".py",
   "mimetype": "text/x-python",
   "name": "python",
   "nbconvert_exporter": "python",
   "pygments_lexer": "ipython3",
   "version": "3.11.5"
  }
 },
 "nbformat": 4,
 "nbformat_minor": 5
}
