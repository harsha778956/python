{
 "cells": [
  {
   "cell_type": "code",
   "execution_count": 1,
   "id": "7fc9ffb0",
   "metadata": {},
   "outputs": [
    {
     "name": "stdout",
     "output_type": "stream",
     "text": [
      "Enter a string  :  Data Science\n",
      "D:1\n",
      "a:2\n",
      "t:1\n",
      "S:1\n",
      "c:2\n",
      "i:1\n",
      "e:2\n",
      "n:1\n"
     ]
    }
   ],
   "source": [
    "# PROGRAM 3\n",
    "\n",
    "def count_characters(str):\n",
    "    return {i : str.count(i) for i in str if i.isalpha()}\n",
    "\n",
    "\n",
    "str = input(\"Enter a string  :  \")\n",
    "result = count_characters(str)\n",
    "for key,value in result.items():\n",
    "    print(f\"{key}:{value}\")"
   ]
  }
 ],
 "metadata": {
  "kernelspec": {
   "display_name": "Python 3 (ipykernel)",
   "language": "python",
   "name": "python3"
  },
  "language_info": {
   "codemirror_mode": {
    "name": "ipython",
    "version": 3
   },
   "file_extension": ".py",
   "mimetype": "text/x-python",
   "name": "python",
   "nbconvert_exporter": "python",
   "pygments_lexer": "ipython3",
   "version": "3.11.5"
  }
 },
 "nbformat": 4,
 "nbformat_minor": 5
}
