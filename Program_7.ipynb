{
 "cells": [
  {
   "cell_type": "code",
   "execution_count": 11,
   "id": "6a7e0b93",
   "metadata": {},
   "outputs": [
    {
     "name": "stdout",
     "output_type": "stream",
     "text": [
      "Time taken using Python list: 0.032994 seconds\n",
      "Time taken using Numpy array: 0.000933 seconds\n",
      "NumPy is approximately 35.356924 times faster for this operation.\n"
     ]
    }
   ],
   "source": [
    "#PROGRAM 7\n",
    "\n",
    "import numpy as np\n",
    "import time\n",
    "\n",
    "size = 10 ** 6\n",
    "\n",
    "python_list = list(range(size))\n",
    "numpy_array = np.arange(size)\n",
    "\n",
    "start_time = time.time()\n",
    "python_list_result = [x + 1 for x in python_list]\n",
    "end_time = time.time()\n",
    "python_list_time = end_time - start_time\n",
    "\n",
    "start_time = time.time()\n",
    "numpy_array_result = numpy_array+1\n",
    "end_time = time.time()\n",
    "numpy_array_time = end_time - start_time\n",
    "\n",
    "print(f\"Time taken using Python list: {python_list_time:6f} seconds\")\n",
    "print(f\"Time taken using Numpy array: {numpy_array_time:6f} seconds\")\n",
    "print(f\"NumPy is approximately {python_list_time/numpy_array_time:2f} times faster for this operation.\")"
   ]
  }
 ],
 "metadata": {
  "kernelspec": {
   "display_name": "Python 3 (ipykernel)",
   "language": "python",
   "name": "python3"
  },
  "language_info": {
   "codemirror_mode": {
    "name": "ipython",
    "version": 3
   },
   "file_extension": ".py",
   "mimetype": "text/x-python",
   "name": "python",
   "nbconvert_exporter": "python",
   "pygments_lexer": "ipython3",
   "version": "3.11.5"
  }
 },
 "nbformat": 4,
 "nbformat_minor": 5
}
