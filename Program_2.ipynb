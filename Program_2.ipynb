{
 "cells": [
  {
   "cell_type": "code",
   "execution_count": 1,
   "id": "fd8c59be",
   "metadata": {},
   "outputs": [
    {
     "name": "stdout",
     "output_type": "stream",
     "text": [
      "Enter a string separated by spaces  :  apple arrow axe banana orange balloons\n",
      "A:['Apple', 'Arrow', 'Axe']\n",
      "B:['Balloons', 'Banana']\n",
      "O:['Orange']\n"
     ]
    }
   ],
   "source": [
    "#PROGRAM 2\n",
    "\n",
    "def create_dictionary(words):\n",
    "    return {i[0]: [j for j in words if j[0] == i[0]] for i in words}\n",
    "\n",
    "\n",
    "words = input(\"Enter a string separated by spaces  :  \").title().split()\n",
    "result = create_dictionary(words)\n",
    "for key,value in sorted(result.items()):\n",
    "    print(f\"{key}:{sorted(value)}\")"
   ]
  }
 ],
 "metadata": {
  "kernelspec": {
   "display_name": "Python 3 (ipykernel)",
   "language": "python",
   "name": "python3"
  },
  "language_info": {
   "codemirror_mode": {
    "name": "ipython",
    "version": 3
   },
   "file_extension": ".py",
   "mimetype": "text/x-python",
   "name": "python",
   "nbconvert_exporter": "python",
   "pygments_lexer": "ipython3",
   "version": "3.11.5"
  }
 },
 "nbformat": 4,
 "nbformat_minor": 5
}
