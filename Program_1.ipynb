{
 "cells": [
  {
   "cell_type": "code",
   "execution_count": 1,
   "id": "08a101e7",
   "metadata": {},
   "outputs": [
    {
     "name": "stdout",
     "output_type": "stream",
     "text": [
      "Enter a number :  10\n",
      "The sum of first 10 natural numbers:  55\n"
     ]
    }
   ],
   "source": [
    "# PROGRAM 1\n",
    "\n",
    "def r_sum(x):\n",
    "    if(x == 0):\n",
    "        print(\"Enter a natural number\")\n",
    "\n",
    "    elif(x == 1):\n",
    "        return 1\n",
    "    \n",
    "    else:\n",
    "        return x + r_sum(x-1)\n",
    "    \n",
    "x = int(input(\"Enter a number :  \"))\n",
    "print(f\"The sum of first {x} natural numbers: \",r_sum(x))"
   ]
  }
 ],
 "metadata": {
  "kernelspec": {
   "display_name": "Python 3 (ipykernel)",
   "language": "python",
   "name": "python3"
  },
  "language_info": {
   "codemirror_mode": {
    "name": "ipython",
    "version": 3
   },
   "file_extension": ".py",
   "mimetype": "text/x-python",
   "name": "python",
   "nbconvert_exporter": "python",
   "pygments_lexer": "ipython3",
   "version": "3.11.5"
  }
 },
 "nbformat": 4,
 "nbformat_minor": 5
}
